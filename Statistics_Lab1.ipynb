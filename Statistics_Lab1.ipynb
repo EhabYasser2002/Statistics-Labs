{
  "nbformat": 4,
  "nbformat_minor": 0,
  "metadata": {
    "colab": {
      "name": "Statistics_Lab1.ipynb",
      "provenance": [],
      "collapsed_sections": [],
      "include_colab_link": true
    },
    "kernelspec": {
      "display_name": "Python 3",
      "language": "python",
      "name": "python3"
    },
    "language_info": {
      "codemirror_mode": {
        "name": "ipython",
        "version": 3
      },
      "file_extension": ".py",
      "mimetype": "text/x-python",
      "name": "python",
      "nbconvert_exporter": "python",
      "pygments_lexer": "ipython3",
      "version": "3.6.3"
    }
  },
  "cells": [
    {
      "cell_type": "markdown",
      "metadata": {
        "id": "view-in-github",
        "colab_type": "text"
      },
      "source": [
        "<a href=\"https://colab.research.google.com/github/EhabYasser2002/Statistics-Labs/blob/main/Statistics_Lab1.ipynb\" target=\"_parent\"><img src=\"https://colab.research.google.com/assets/colab-badge.svg\" alt=\"Open In Colab\"/></a>"
      ]
    },
    {
      "cell_type": "markdown",
      "metadata": {
        "id": "7EinjAkHU3P1"
      },
      "source": [
        "# Statistics Lab1"
      ]
    },
    {
      "cell_type": "markdown",
      "metadata": {
        "id": "vOuurNeVU2Nv"
      },
      "source": [
        "## Imports"
      ]
    },
    {
      "cell_type": "code",
      "metadata": {
        "id": "ku8v1gpvVIFT"
      },
      "source": [
        "import matplotlib.pyplot as plt #Python 2D plotting library\n",
        "from scipy.stats import norm #Python package for distributions\n",
        "import numpy as np #Python package for powerful N-dimensional array operations\n",
        "\n",
        "plt.style.use('seaborn') # pretty matplotlib plots\n",
        "plt.rcParams['figure.figsize'] = (12, 8)"
      ],
      "execution_count": 1,
      "outputs": []
    },
    {
      "cell_type": "markdown",
      "metadata": {
        "id": "L0uivaMm6vgV"
      },
      "source": [
        "## Distribution Operations"
      ]
    },
    {
      "cell_type": "code",
      "metadata": {
        "id": "g16cTGoxGtvK"
      },
      "source": [
        "def generate_data(x_min = -5.0, x_max = 5.0, num = 1000):\n",
        "    \"\"\"\n",
        "    generates evenly spaced numbers over a specified interval\n",
        "\n",
        "    Parameters:\n",
        "    x_min (float): the starting point of the sequence\n",
        "    x_max (float): the end point of the sequence\n",
        "    num (int): the number of points to be generated\n",
        "\n",
        "    Returns:\n",
        "    x (array-like): equally spaced numbers\n",
        "\n",
        "    \"\"\"\n",
        "\n",
        "    x = np.linspace(x_min, x_max, num)   #Hint: try np.linspace() method\n",
        "    return x"
      ],
      "execution_count": 6,
      "outputs": []
    },
    {
      "cell_type": "code",
      "metadata": {
        "id": "KxhJt44ns1Tq"
      },
      "source": [
        "def compute_mean_std(x):\n",
        "    \"\"\"\n",
        "    Computes the approximate mean and standard deviation of an array of normally distributed numbers\n",
        "\n",
        "    Parameters:\n",
        "    x (array-like): the array of numbers\n",
        "\n",
        "    Returns:\n",
        "    mean (float): the mean of the array\n",
        "    std (float): the standard deviation of the array\n",
        "    \"\"\"\n",
        "\n",
        "    mean = np.mean(x)   #Hint: use np for this purpose\n",
        "    std = np.std(x)    #Hint: use np for this purpose\n",
        "    return mean, std"
      ],
      "execution_count": 5,
      "outputs": []
    },
    {
      "cell_type": "code",
      "metadata": {
        "id": "smXxFLdeuNGJ"
      },
      "source": [
        "def get_normal_pdf(x, mean=0, std=1.0):\n",
        "    \"\"\"\n",
        "    generates the normal pdf for the range x\n",
        "\n",
        "    Parameters:\n",
        "    x (array-like): the range of x axis\n",
        "    mean (float): the mean of the normal distribution\n",
        "    std (float): the standard deviation of the normal distribution\n",
        "\n",
        "    Returns:\n",
        "    y (array-like): the normal pdf of numbers in x\n",
        "\n",
        "    \"\"\"\n",
        "\n",
        "    y = norm.pdf(x, mean, std)     #Try to write your own pdf expression. Otherwise, you can use the built-in one\n",
        "    return y"
      ],
      "execution_count": 58,
      "outputs": []
    },
    {
      "cell_type": "code",
      "metadata": {
        "id": "IKpQvP0F8wYq"
      },
      "source": [
        "def standardize(y):\n",
        "    \"\"\"\n",
        "    Standardize the given normally distributed array\n",
        "\n",
        "    Parameters:\n",
        "    y (array-like): Array of normally distributed values\n",
        "\n",
        "    Returns:\n",
        "    z (array-like): the standard version of the input array\n",
        "\n",
        "    \"\"\"\n",
        "    mean, std = compute_mean_std(y)\n",
        "    z = (y - mean)/std   #Transform y to z\n",
        "    return z"
      ],
      "execution_count": 56,
      "outputs": []
    },
    {
      "cell_type": "markdown",
      "metadata": {
        "id": "dRvtL-ATVKrk"
      },
      "source": [
        "## Normal Distribution Plot"
      ]
    },
    {
      "cell_type": "markdown",
      "metadata": {
        "id": "TtGDb95ZJYH_"
      },
      "source": [
        "It's required to implement a function that plots normal distribution for a given array of numbers distributed over a given range.\n",
        "\n",
        "Please, follow the following signature:"
      ]
    },
    {
      "cell_type": "code",
      "metadata": {
        "id": "poJi4r_UVOpO"
      },
      "source": [
        "def plot_normal(x, y = None):#, xlim_min = -1.0, xlim_max = 1.0, ylim_min = 0, ylim_max = 1.0):\n",
        "    \"\"\"\n",
        "    Plots the pdf of the normal (Gaussian) distribution\n",
        "\n",
        "    Parameters:\n",
        "    x (array-like): the data points to be plotted\n",
        "    xlim_min (float): the lower bound of x axis\n",
        "    xlim_max (float): the upper bound of x axis\n",
        "    ylim_min (float): the lower bound of y axis\n",
        "    ylim_max (float): the upper bound of y axis\n",
        "    \"\"\"\n",
        "    if y is None:\n",
        "        y = get_normal_pdf(x)\n",
        "    \n",
        "    #Use plt library to show your plot. You are encouraged to play with plt functions to\n",
        "    #get a colorful and neat plot\n",
        "    #For example: plt.xlabel('X')\n",
        "    plt.style.use('classic') \n",
        "    plt.figure(facecolor='c')\n",
        "    plt.axes().set_facecolor(\"k\")\n",
        "    plt.rcParams['figure.figsize'] = (8, 11)\n",
        "    plt.rcParams.update({'font.family':'Helvetica'})\n",
        "    plt.title(\"Normal Distribution\", fontweight = 'bold', fontname=\"Comic Sans MS\")\n",
        "    plt.xlabel('X', fontweight = 'bold')\n",
        "    plt.ylabel('PDF', fontweight = 'bold')\n",
        "    plt.plot(x, y, color = 'r')\n",
        "    plt.show()\n"
      ],
      "execution_count": 167,
      "outputs": []
    },
    {
      "cell_type": "markdown",
      "metadata": {
        "id": "rXV5jNUf-0Vk"
      },
      "source": [
        "## Driver Code"
      ]
    },
    {
      "cell_type": "code",
      "metadata": {
        "id": "n1k5iy6CWTqp",
        "colab": {
          "base_uri": "https://localhost:8080/",
          "height": 923
        },
        "outputId": "2bffdee2-7e98-4d67-d4f9-976c96f78a4e"
      },
      "source": [
        "x_min = 0.5\n",
        "x_max = 0.75\n",
        "\n",
        "ylim_min = 0.0\n",
        "ylim_max = 1.0\n",
        "\n",
        "x = generate_data(x_min, x_max, 100000)\n",
        "\n",
        "mean, std = compute_mean_std(x)\n",
        "\n",
        "y = get_normal_pdf(x, mean, std)\n",
        "\n",
        "plot_normal(x, y)#, x_min, x_max, ylim_min, ylim_max)\n",
        "\n",
        "z = standardize(x)\n",
        "\n",
        "x_min = z[0]\n",
        "x_max = z[len(z) - 1]\n",
        "\n",
        "new_mean, new_std = compute_mean_std(z)\n",
        "\n",
        "new_y = get_normal_pdf(z, new_mean, new_std)\n",
        "\n",
        "plot_normal(z, new_y)#, x_min, x_max, ylim_min, ylim_max)"
      ],
      "execution_count": 168,
      "outputs": [
        {
          "output_type": "display_data",
          "data": {
            "text/plain": [
              "<Figure size 640x480 with 1 Axes>"
            ],
            "image/png": "[encoded data removed]"
          },
          "metadata": {}
        },
        {
          "output_type": "display_data",
          "data": {
            "text/plain": [
              "<Figure size 640x480 with 1 Axes>"
            ],
            "image/png": "[encoded data removed]"
          },
          "metadata": {}
        }
      ]
    },
    {
      "cell_type": "markdown",
      "metadata": {
        "id": "89rmO1NkG9G1"
      },
      "source": [
        "## Bonus Part"
      ]
    },
    {
      "cell_type": "markdown",
      "metadata": {
        "id": "HikLkYe1K_Y_"
      },
      "source": [
        "### CDF "
      ]
    },
    {
      "cell_type": "code",
      "metadata": {
        "id": "wf-8aEeq72Rm"
      },
      "source": [
        "def compute_inverse_cdf(p, mean = 0, std = 1):\n",
        "    \"\"\"\n",
        "    Computes the inverse of CDF, where P{X <= x} = p\n",
        "\n",
        "    Parameters:\n",
        "    p (float): the value of the CDF, where 0 <= p <= 1\n",
        "    mean a.k.a µ (float): the mean of the normal distribution\n",
        "    std a.k.a σ (float): the standard deviation of the normal distribution mean\n",
        "\n",
        "    Returns:\n",
        "    x (float): the point that satisfies the equation P{X <= x} = p\n",
        "    \"\"\"\n",
        "\n",
        "    x = #No hints\n",
        "    return x"
      ],
      "execution_count": null,
      "outputs": []
    },
    {
      "cell_type": "markdown",
      "metadata": {
        "id": "0r4z0XVtLEgt"
      },
      "source": [
        "### CDF Plot"
      ]
    },
    {
      "cell_type": "code",
      "metadata": {
        "id": "itF_SPz01xJM"
      },
      "source": [
        "def plot_cdf(x, cdf=0.5):\n",
        "    \"\"\"\n",
        "    Plots the cdf of the normal (Gaussian) distribution at a given certain point\n",
        "\n",
        "    Parameters:\n",
        "    x (array-like): the data points to be plotted\n",
        "    cdf: the plot shaded percentage that representins the normal distribution cdf\n",
        "    \"\"\"\n",
        "    \n",
        "    #No hints\n",
        "    \n",
        "    plt.show()"
      ],
      "execution_count": null,
      "outputs": []
    },
    {
      "cell_type": "markdown",
      "metadata": {
        "id": "9i9wwFV0HH3-"
      },
      "source": [
        "### Driver Code"
      ]
    },
    {
      "cell_type": "code",
      "metadata": {
        "id": "EZpZgCxZRqRv"
      },
      "source": [
        "percent = 0.8\n",
        "plot_cdf(x, percent)"
      ],
      "execution_count": null,
      "outputs": []
    }
  ]
}